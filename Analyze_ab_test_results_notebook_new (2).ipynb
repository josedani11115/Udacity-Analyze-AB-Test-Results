{
 "cells": [
  {
   "cell_type": "markdown",
   "metadata": {},
   "source": [
    "## Analyze A/B Test Results\n",
    "\n",
    "This project will assure you have mastered the subjects covered in the statistics lessons.  The hope is to have this project be as comprehensive of these topics as possible.  Good luck!\n",
    "\n",
    "Corresponding with this notebook is a slide deck where you will need to update all the portions in red.  Completing the notebook will provide all the results needed for the slides.  **Correctly completing the slides is a required part of the project.**\n",
    "\n",
    "## Table of Contents\n",
    "- [Introduction](#intro)\n",
    "- [Part I - Descriptive Statistics](#descriptive)\n",
    "- [Part II - Probability](#probability)\n",
    "- [Part III - Experimentation](#experimentation)\n",
    "- [Part IV - Algorithms](#algorithms)\n",
    "\n",
    "\n",
    "<a id='intro'></a>\n",
    "### Introduction\n",
    "\n",
    "A/B tests are very commonly performed by data analysts and data scientists.  For this project, you will be working to understand the results of an A/B test run by an e-commerce website.  Your goal is to work through this notebook to help the company understand if they should implement the new page, keep the old page, or perhaps run the experiment longer to make their decision.\n",
    "\n",
    "**As you work through this notebook, follow along in the classroom and answer the corresponding quiz questions associated with each question.** The labels for each classroom concept are provided for each question.  This will assure you are on the right track as you work through the project, and you can feel more confident in your final submission meeting the criteria.  As a final check, assure you meet all the criteria on the [RUBRIC](https://review.udacity.com/#!/projects/37e27304-ad47-4eb0-a1ab-8c12f60e43d0/rubric).\n",
    "\n",
    "<a id='descriptive'></a>\n",
    "#### Part I - Descriptive Statistics\n",
    "\n",
    "To get started, let's import our libraries."
   ]
  },
  {
   "cell_type": "code",
   "execution_count": 4,
   "metadata": {},
   "outputs": [],
   "source": [
    "import pandas as pd\n",
    "import numpy as np\n",
    "import random\n",
    "import matplotlib.pyplot as plt\n",
    "%matplotlib inline\n",
    "#We are setting the seed to assure you get the same answers on quizzes as we set up\n",
    "random.seed(0)"
   ]
  },
  {
   "cell_type": "markdown",
   "metadata": {},
   "source": [
    "For each of the parts of question `1` notice links to [pandas documentation](https://pandas.pydata.org/) is provided to assist with answering the questions.  Though there are other ways you could solve the questions, the documentation is provided to assist you with one fast way to find the answer to each question.\n",
    "\n",
    "\n",
    "`1.a)` Now, read in the `ab_data.csv` data. Store it in `df`. Read in the dataset and take a look at the top few rows here. **This question is completed for you**:"
   ]
  },
  {
   "cell_type": "code",
   "execution_count": 5,
   "metadata": {},
   "outputs": [
    {
     "data": {
      "text/html": [
       "<div>\n",
       "<style scoped>\n",
       "    .dataframe tbody tr th:only-of-type {\n",
       "        vertical-align: middle;\n",
       "    }\n",
       "\n",
       "    .dataframe tbody tr th {\n",
       "        vertical-align: top;\n",
       "    }\n",
       "\n",
       "    .dataframe thead th {\n",
       "        text-align: right;\n",
       "    }\n",
       "</style>\n",
       "<table border=\"1\" class=\"dataframe\">\n",
       "  <thead>\n",
       "    <tr style=\"text-align: right;\">\n",
       "      <th></th>\n",
       "      <th>country</th>\n",
       "      <th>group</th>\n",
       "      <th>converted</th>\n",
       "    </tr>\n",
       "  </thead>\n",
       "  <tbody>\n",
       "    <tr>\n",
       "      <th>0</th>\n",
       "      <td>UK</td>\n",
       "      <td>control</td>\n",
       "      <td>0</td>\n",
       "    </tr>\n",
       "    <tr>\n",
       "      <th>1</th>\n",
       "      <td>US</td>\n",
       "      <td>treatment</td>\n",
       "      <td>1</td>\n",
       "    </tr>\n",
       "    <tr>\n",
       "      <th>2</th>\n",
       "      <td>UK</td>\n",
       "      <td>treatment</td>\n",
       "      <td>0</td>\n",
       "    </tr>\n",
       "    <tr>\n",
       "      <th>3</th>\n",
       "      <td>UK</td>\n",
       "      <td>control</td>\n",
       "      <td>0</td>\n",
       "    </tr>\n",
       "    <tr>\n",
       "      <th>4</th>\n",
       "      <td>UK</td>\n",
       "      <td>treatment</td>\n",
       "      <td>0</td>\n",
       "    </tr>\n",
       "  </tbody>\n",
       "</table>\n",
       "</div>"
      ],
      "text/plain": [
       "  country      group  converted\n",
       "0      UK    control          0\n",
       "1      US  treatment          1\n",
       "2      UK  treatment          0\n",
       "3      UK    control          0\n",
       "4      UK  treatment          0"
      ]
     },
     "execution_count": 5,
     "metadata": {},
     "output_type": "execute_result"
    }
   ],
   "source": [
    "df = pd.read_csv('ab_data.csv')\n",
    "df.head()"
   ]
  },
  {
   "cell_type": "markdown",
   "metadata": {},
   "source": [
    "`b)` Use the below cell to find the number of rows in the dataset. [Helpful  Pandas Link](https://pandas.pydata.org/docs/reference/api/pandas.DataFrame.shape.html#pandas.DataFrame.shape)"
   ]
  },
  {
   "cell_type": "markdown",
   "metadata": {
    "collapsed": true
   },
   "source": [
    "`c)` The proportion of users converted.  [Helpful  Pandas Link](https://pandas.pydata.org/docs/reference/api/pandas.DataFrame.mean.html)"
   ]
  },
  {
   "cell_type": "code",
   "execution_count": 6,
   "metadata": {},
   "outputs": [
    {
     "name": "stdout",
     "output_type": "stream",
     "text": [
      "69889\n"
     ]
    }
   ],
   "source": [
    "number_rows = df.shape[0]\n",
    "\n",
    "\n",
    "print(number_rows)"
   ]
  },
  {
   "cell_type": "code",
   "execution_count": 6,
   "metadata": {},
   "outputs": [
    {
     "name": "stdout",
     "output_type": "stream",
     "text": [
      "0.13047832992316388\n"
     ]
    }
   ],
   "source": [
    "proportion_convert = df['converted'].mean()\n",
    "\n",
    "print(proportion_convert)"
   ]
  },
  {
   "cell_type": "code",
   "execution_count": 13,
   "metadata": {},
   "outputs": [
    {
     "data": {
      "text/html": [
       "<div>\n",
       "<style scoped>\n",
       "    .dataframe tbody tr th:only-of-type {\n",
       "        vertical-align: middle;\n",
       "    }\n",
       "\n",
       "    .dataframe tbody tr th {\n",
       "        vertical-align: top;\n",
       "    }\n",
       "\n",
       "    .dataframe thead th {\n",
       "        text-align: right;\n",
       "    }\n",
       "</style>\n",
       "<table border=\"1\" class=\"dataframe\">\n",
       "  <thead>\n",
       "    <tr style=\"text-align: right;\">\n",
       "      <th></th>\n",
       "      <th>country</th>\n",
       "      <th>group</th>\n",
       "      <th>converted</th>\n",
       "    </tr>\n",
       "  </thead>\n",
       "  <tbody>\n",
       "    <tr>\n",
       "      <th>0</th>\n",
       "      <td>UK</td>\n",
       "      <td>control</td>\n",
       "      <td>0</td>\n",
       "    </tr>\n",
       "    <tr>\n",
       "      <th>1</th>\n",
       "      <td>US</td>\n",
       "      <td>treatment</td>\n",
       "      <td>1</td>\n",
       "    </tr>\n",
       "    <tr>\n",
       "      <th>2</th>\n",
       "      <td>UK</td>\n",
       "      <td>treatment</td>\n",
       "      <td>0</td>\n",
       "    </tr>\n",
       "    <tr>\n",
       "      <th>3</th>\n",
       "      <td>UK</td>\n",
       "      <td>control</td>\n",
       "      <td>0</td>\n",
       "    </tr>\n",
       "    <tr>\n",
       "      <th>4</th>\n",
       "      <td>UK</td>\n",
       "      <td>treatment</td>\n",
       "      <td>0</td>\n",
       "    </tr>\n",
       "  </tbody>\n",
       "</table>\n",
       "</div>"
      ],
      "text/plain": [
       "  country      group  converted\n",
       "0      UK    control          0\n",
       "1      US  treatment          1\n",
       "2      UK  treatment          0\n",
       "3      UK    control          0\n",
       "4      UK  treatment          0"
      ]
     },
     "execution_count": 13,
     "metadata": {},
     "output_type": "execute_result"
    }
   ],
   "source": [
    "df.head()"
   ]
  },
  {
   "cell_type": "code",
   "execution_count": 12,
   "metadata": {},
   "outputs": [
    {
     "name": "stdout",
     "output_type": "stream",
     "text": [
      "treatment    35211\n",
      "control      34678\n",
      "Name: group, dtype: int64\n"
     ]
    }
   ],
   "source": [
    "group_counts = df['group'].value_counts()\n",
    "\n",
    "print(group_counts)"
   ]
  },
  {
   "cell_type": "markdown",
   "metadata": {},
   "source": [
    "`d)` Do any of the rows have missing values? [Helpful Pandas Link One](https://pandas.pydata.org/docs/reference/api/pandas.DataFrame.isnull.html) and [Helpful Pandas Link Two](https://pandas.pydata.org/docs/reference/api/pandas.DataFrame.sum.html)"
   ]
  },
  {
   "cell_type": "markdown",
   "metadata": {},
   "source": [
    "`e)` How many customers are from each country? Build a bar chart to show the count of visits from each country."
   ]
  },
  {
   "cell_type": "code",
   "execution_count": 7,
   "metadata": {},
   "outputs": [
    {
     "name": "stdout",
     "output_type": "stream",
     "text": [
      "country      0\n",
      "group        0\n",
      "converted    0\n",
      "dtype: int64\n"
     ]
    }
   ],
   "source": [
    "missing_values = df.isna().sum()\n",
    "print(missing_values)"
   ]
  },
  {
   "cell_type": "code",
   "execution_count": 8,
   "metadata": {},
   "outputs": [],
   "source": [
    "# number of visitors from each country - pull the necessary code from the next cell to provide just the counts\n"
   ]
  },
  {
   "cell_type": "code",
   "execution_count": 9,
   "metadata": {},
   "outputs": [
    {
     "data": {
      "image/png": "[encoded data removed]",
      "text/plain": [
       "<Figure size 640x480 with 1 Axes>"
      ]
     },
     "metadata": {},
     "output_type": "display_data"
    }
   ],
   "source": [
    "# bar chart of results - this part is done for you\n",
    "df['country'].value_counts().plot(kind='bar');\n",
    "plt.title('Number of Visits From Each Country');\n",
    "plt.ylabel('Count of Visits');\n",
    "plt.show();"
   ]
  },
  {
   "cell_type": "markdown",
   "metadata": {},
   "source": [
    "`f)` Recognize that all of your columns are of a **categorical data type** with the exception of one.  Which column is not **categorical**? [Helpful Pandas Link](https://pandas.pydata.org/docs/reference/api/pandas.DataFrame.info.html)"
   ]
  },
  {
   "cell_type": "code",
   "execution_count": 10,
   "metadata": {},
   "outputs": [
    {
     "name": "stdout",
     "output_type": "stream",
     "text": [
      "<class 'pandas.core.frame.DataFrame'>\n",
      "RangeIndex: 69889 entries, 0 to 69888\n",
      "Data columns (total 3 columns):\n",
      " #   Column     Non-Null Count  Dtype \n",
      "---  ------     --------------  ----- \n",
      " 0   country    69889 non-null  object\n",
      " 1   group      69889 non-null  object\n",
      " 2   converted  69889 non-null  int64 \n",
      "dtypes: int64(1), object(2)\n",
      "memory usage: 1.6+ MB\n"
     ]
    }
   ],
   "source": [
    "#The column that is not categorical is convert because is a integer number\n",
    "df.info()"
   ]
  },
  {
   "cell_type": "markdown",
   "metadata": {},
   "source": [
    "`g)` What are the possible values of the `converted` column?  Does it make sense that these values are the only possible values? Why or why not? \n",
    "\n",
    "**Here you can use one of the functions you used in an earlier question**."
   ]
  },
  {
   "cell_type": "code",
   "execution_count": 11,
   "metadata": {},
   "outputs": [
    {
     "name": "stdout",
     "output_type": "stream",
     "text": [
      "[0 1]\n"
     ]
    }
   ],
   "source": [
    "#The possible values of 'converted column are 1 and 0 depending on the user if they buy or not'\n",
    "\n",
    "\n",
    "unique_values = df['converted'].unique()\n",
    "\n",
    "print(unique_values)"
   ]
  },
  {
   "cell_type": "markdown",
   "metadata": {},
   "source": [
    "<a id='probability'></a>\n",
    "#### Part II - Probability\n",
    "\n",
    "`1.` Now that you have had a chance to learn more about the dataset, let's look more at how different factors are related to `converting`.\n",
    "\n",
    "`a)` What is the probability of an individual converting regardless of the page they receive or the country they are from? Simply, what is the chance of conversion in the dataset?"
   ]
  },
  {
   "cell_type": "code",
   "execution_count": 12,
   "metadata": {},
   "outputs": [
    {
     "data": {
      "text/plain": [
       "0.13047832992316388"
      ]
     },
     "execution_count": 12,
     "metadata": {},
     "output_type": "execute_result"
    }
   ],
   "source": [
    "df['converted'].mean()\n",
    "#the probability of chance conversion is 13.05%\n",
    "\n"
   ]
  },
  {
   "cell_type": "markdown",
   "metadata": {},
   "source": [
    "`b)` Given that an individual was in the `control` group, what is the probability they converted? **This question is completed for you**"
   ]
  },
  {
   "cell_type": "code",
   "execution_count": 13,
   "metadata": {},
   "outputs": [
    {
     "name": "stdout",
     "output_type": "stream",
     "text": [
      "0.1052540515600669\n"
     ]
    }
   ],
   "source": [
    "contro = df.query('group == \"control\"')['converted'].mean()\n",
    "print(contro)"
   ]
  },
  {
   "cell_type": "markdown",
   "metadata": {},
   "source": [
    "`c)` Given that an individual was in the `treatment` group, what is the probability they converted?"
   ]
  },
  {
   "cell_type": "code",
   "execution_count": 14,
   "metadata": {},
   "outputs": [
    {
     "name": "stdout",
     "output_type": "stream",
     "text": [
      "0.15532078043793132\n"
     ]
    }
   ],
   "source": [
    "treat = df.query('group == \"treatment\"')['converted'].mean()\n",
    "\n",
    "print(treat)"
   ]
  },
  {
   "cell_type": "markdown",
   "metadata": {},
   "source": [
    "`d)` Do you see evidence that the treatment is related to higher `converted` rates?"
   ]
  },
  {
   "cell_type": "code",
   "execution_count": 15,
   "metadata": {},
   "outputs": [
    {
     "name": "stdout",
     "output_type": "stream",
     "text": [
      "0.050066728877864425\n"
     ]
    }
   ],
   "source": [
    "#absolutely the treatment group have 15.53% of convert rates\n",
    "#the control group have a 10.52% of converted rates\n",
    "\n",
    "higher_converts = treat - contro\n",
    "print(higher_converts)\n"
   ]
  },
  {
   "cell_type": "markdown",
   "metadata": {},
   "source": [
    "`e)` What is the probability that an individual was in the `treatment`?"
   ]
  },
  {
   "cell_type": "code",
   "execution_count": 16,
   "metadata": {},
   "outputs": [
    {
     "name": "stdout",
     "output_type": "stream",
     "text": [
      "0.5038131894861853\n"
     ]
    }
   ],
   "source": [
    "# Calculate the probability of an individual being in the treatment group\n",
    "probability = df['group'].value_counts(normalize=True)['treatment']\n",
    "# Print the probability\n",
    "print(probability)"
   ]
  },
  {
   "cell_type": "markdown",
   "metadata": {},
   "source": [
    "`f)` What is the probability that an individual was from Canada `CA`?"
   ]
  },
  {
   "cell_type": "code",
   "execution_count": 17,
   "metadata": {},
   "outputs": [
    {
     "name": "stdout",
     "output_type": "stream",
     "text": [
      "0.04990771079855199\n"
     ]
    }
   ],
   "source": [
    "probability_canada = df[df['country'] == 'CA'].shape[0] / df.shape[0]\n",
    "\n",
    "print(probability_canada)"
   ]
  },
  {
   "cell_type": "markdown",
   "metadata": {},
   "source": [
    "`g)` Given that an individual was in the `US`, what was the probability that they `converted`? **This question is completed for you**\n",
    "\n",
    "$P(\\text{converted} == 1|\\text{country} ==\\text{\"US\"})$\n",
    "\n"
   ]
  },
  {
   "cell_type": "code",
   "execution_count": 18,
   "metadata": {},
   "outputs": [
    {
     "data": {
      "text/plain": [
       "0.13277379733879222"
      ]
     },
     "execution_count": 18,
     "metadata": {},
     "output_type": "execute_result"
    }
   ],
   "source": [
    "df.query('country == \"US\"')['converted'].mean()"
   ]
  },
  {
   "cell_type": "markdown",
   "metadata": {},
   "source": [
    "`h)` Given that an individual was in the `UK`, what was the probability that they `converted`? \n",
    "\n",
    "$P(\\text{converted} == 1|\\text{country} ==\\text{\"UK\"})$"
   ]
  },
  {
   "cell_type": "code",
   "execution_count": 19,
   "metadata": {},
   "outputs": [
    {
     "data": {
      "text/plain": [
       "0.12512107572218106"
      ]
     },
     "execution_count": 19,
     "metadata": {},
     "output_type": "execute_result"
    }
   ],
   "source": [
    "df.query('country == \"UK\"')['converted'].mean()\n"
   ]
  },
  {
   "cell_type": "code",
   "execution_count": 20,
   "metadata": {},
   "outputs": [
    {
     "data": {
      "text/plain": [
       "0.1252866972477064"
      ]
     },
     "execution_count": 20,
     "metadata": {},
     "output_type": "execute_result"
    }
   ],
   "source": [
    "df.query('country == \"CA\"')['converted'].mean()"
   ]
  },
  {
   "cell_type": "markdown",
   "metadata": {},
   "source": [
    "`i)` Do you see evidence that the `converted` rate might differ from one country to the next?"
   ]
  },
  {
   "cell_type": "code",
   "execution_count": 21,
   "metadata": {},
   "outputs": [
    {
     "name": "stdout",
     "output_type": "stream",
     "text": [
      "0.007487100091085802\n"
     ]
    }
   ],
   "source": [
    "#yes we have a diference in US With a converted average of 13.22% and in another countries are 12.52%\n",
    "\n",
    "diference =df.query('country == \"US\"')['converted'].mean() - df.query('country == \"CA\"')['converted'].mean()\n",
    "\n",
    "print(diference)\n",
    "\n"
   ]
  },
  {
   "cell_type": "markdown",
   "metadata": {},
   "source": [
    "`j)` Consider the table below, fill in the conversion rates below to look at how conversion by country and treatment group vary.  The `US` column is done for you, and two methods for calculating the probabilities are shown - **COMPLETE THE REST OF THE TABLE**.  Does it appear that there could be an interaction between how country and treatment impact conversion?\n",
    "\n",
    "These two values that are filled in can be written as:\n",
    "\n",
    "$P(\\text{converted} == 1|(\\text{country} ==\\text{\"US\" AND }\\text{group} ==\\text{\"control\"})) = 10.7\\%$\n",
    "\n",
    "$P(\\text{converted} == 1|(\\text{country} ==\\text{\"US\" AND }\\text{group} ==\\text{\"treatment\"})) = 15.8\\%$\n",
    "\n",
    "|             | US          | UK          | CA          |\n",
    "| ----------- | ----------- | ----------- | ----------- |\n",
    "| Control     | 10.7%       |  %          |  %          |\n",
    "| Treatment   | 15.8%       |  %          |  %          |"
   ]
  },
  {
   "cell_type": "code",
   "execution_count": 22,
   "metadata": {},
   "outputs": [
    {
     "name": "stdout",
     "output_type": "stream",
     "text": [
      "0.10731404958677686\n",
      "0.1577687626774848\n"
     ]
    }
   ],
   "source": [
    "# Method 1  - explicitly calculate each probability\n",
    "print(df.query('country == \"US\" and group == \"control\" and converted == 1').shape[0]/df.query('country == \"US\" and group == \"control\"').shape[0]) \n",
    "print(df.query('country == \"US\" and group == \"treatment\" and converted == 1').shape[0]/df.query('country == \"US\" and group == \"treatment\"').shape[0])"
   ]
  },
  {
   "cell_type": "code",
   "execution_count": 23,
   "metadata": {},
   "outputs": [
    {
     "data": {
      "text/plain": [
       "group\n",
       "control      0.107314\n",
       "treatment    0.157769\n",
       "Name: converted, dtype: float64"
      ]
     },
     "execution_count": 23,
     "metadata": {},
     "output_type": "execute_result"
    }
   ],
   "source": [
    "# Method 2 - quickly calculate using `groupby`\n",
    "df.query('country == \"US\"').groupby('group')['converted'].mean()"
   ]
  },
  {
   "cell_type": "markdown",
   "metadata": {},
   "source": [
    "##### Solution -- Complete the Table Here\n",
    "\n",
    "|             | US          | UK          | CA          |\n",
    "| ----------- | ----------- | ----------- | ----------- |\n",
    "| Control     | 10.7%       |  %          |  %          |\n",
    "| Treatment   | 15.8%       |  %          |  %          |"
   ]
  },
  {
   "cell_type": "code",
   "execution_count": 24,
   "metadata": {},
   "outputs": [
    {
     "data": {
      "text/plain": [
       "group\n",
       "control      0.101649\n",
       "treatment    0.148698\n",
       "Name: converted, dtype: float64"
      ]
     },
     "execution_count": 24,
     "metadata": {},
     "output_type": "execute_result"
    }
   ],
   "source": [
    "df.query('country == \"UK\"').groupby('group')['converted'].mean()"
   ]
  },
  {
   "cell_type": "code",
   "execution_count": 25,
   "metadata": {},
   "outputs": [
    {
     "data": {
      "text/plain": [
       "group\n",
       "control      0.094474\n",
       "treatment    0.154017\n",
       "Name: converted, dtype: float64"
      ]
     },
     "execution_count": 25,
     "metadata": {},
     "output_type": "execute_result"
    }
   ],
   "source": [
    "df.query('country == \"CA\"').groupby('group')['converted'].mean()"
   ]
  },
  {
   "cell_type": "markdown",
   "metadata": {},
   "source": [
    "<a id='experimentation'></a>\n",
    "### Part III - Experimentation\n",
    "\n",
    "`1.` Consider you need to make the decision just based on all the data provided.  If you want to assume that the control page is better unless the treatment page proves to be definitely better at a Type I error rate of 5%, you state your null and alternative hypotheses in terms of **$p_{control}$** and **$p_{treatment}$** as:  \n",
    "\n",
    "$H_{0}: p_{control} >= p_{treatment}$\n",
    "\n",
    "$H_{1}: p_{control} < p_{treatment}$\n",
    "\n",
    "Which is equivalent to:\n",
    "\n",
    "$H_{0}: p_{treatment} - p_{control} <= 0$\n",
    "\n",
    "$H_{1}: p_{treatment} - p_{control} > 0$\n",
    "\n",
    "\n",
    "Where  \n",
    "* **$p_{control}$** is the `converted` rate for the control page\n",
    "* **$p_{treatment}$** `converted` rate for the treatment page\n",
    "\n",
    "**Note for this experiment we are not looking at differences associated with country.**"
   ]
  },
  {
   "cell_type": "markdown",
   "metadata": {},
   "source": [
    "`a)` The **convert rate** for $p_{treatment}$ under the null.  The **convert rate** for $p_{control}$ under the null. The sample size for the `control` and the sample size for the `treatment` are from the original dataset. **All of these values are set below, and set the stage for the simulations you will run for the rest of this section.**"
   ]
  },
  {
   "cell_type": "markdown",
   "metadata": {},
   "source": [
    "Assume under the null hypothesis, $p_{treatment}$ and $p_{control}$ both have \"true\" success rates equal to the **converted** success rate regardless of page - that is $p_{treatment}$ and $p_{control}$ are equal. Furthermore, assume they are equal to the **converted** rate in `df` regardless of the page. **These are set in the first cell below.**<br><br>\n",
    "\n",
    "* Use a sample size for each page equal to the ones in `df`. **These are also set below.**  <br><br>\n",
    "\n",
    "* Perform the sampling distribution for the difference in `converted` between the two pages over 500 iterations of calculating an estimate from the null.  <br><br>\n",
    "\n",
    "* Use the cells below to provide the necessary parts of this simulation.  \n",
    "\n",
    "If this doesn't make complete sense right now, don't worry - you are going to work through the problems below to complete this problem.  You can use **Quiz 4** in the classroom to make sure you are on the right track.<br><br>"
   ]
  },
  {
   "cell_type": "code",
   "execution_count": 26,
   "metadata": {},
   "outputs": [
    {
     "name": "stdout",
     "output_type": "stream",
     "text": [
      "0.13047832992316388\n"
     ]
    }
   ],
   "source": [
    "p_control_treatment_null  = df['converted'].mean()\n",
    "n_treatment = df.query('group == \"treatment\"').shape[0]\n",
    "n_control = df.query('group == \"control\"').shape[0]\n",
    "\n",
    "\n",
    "print(p_control_treatment_null)"
   ]
  },
  {
   "cell_type": "markdown",
   "metadata": {},
   "source": [
    "`b)` Use the results from part `a)` to simulate `n_treatment` transactions with a convert rate of `p_treatment_null`.  Store these $n_{treatment}$ 1's and 0's in a `list` of **treatment_converted**.  It should look something like the following (the 0's and and 1's **don't** need to be the same): \n",
    "\n",
    "`[0, 0, 1, 1, 0, ....]` "
   ]
  },
  {
   "cell_type": "code",
   "execution_count": 27,
   "metadata": {},
   "outputs": [],
   "source": [
    "# treatment_converted =\n",
    "p_treatment_null = p_treatment_null = df.query('group == \"treatment\"')['converted'].mean()\n",
    "treatment_converted = []\n",
    "for i in range(n_treatment):\n",
    "    convert_ray = np.random.choice([0,1] , p = [1 - p_treatment_null, p_treatment_null])\n",
    "    treatment_converted.append(convert_ray)\n",
    "\n",
    "\n",
    "\n"
   ]
  },
  {
   "cell_type": "markdown",
   "metadata": {},
   "source": [
    "`c)` Use the results from part `a)` to simulate `n_control` transactions with a convert rate of `p_control_null`.  Store these $n_{treatment}$ 1's and 0's in a `list` of **control_converted**.  It should look something like the following (the 0's and and 1's **don't** need to be exactly the same): \n",
    "\n",
    "`[0, 0, 1, 1, 0, ....]` "
   ]
  },
  {
   "cell_type": "code",
   "execution_count": 28,
   "metadata": {},
   "outputs": [],
   "source": [
    " #control_converted = \n",
    "\n",
    "p_control_null = df.query('group == \"control\"')['converted'].mean()\n",
    "control_converted = []\n",
    "for i in range(n_control):\n",
    "    convert_ray = np.random.choice([0,1] , p= [1 - p_control_null, p_control_null])\n",
    "    control_converted.append(convert_ray)\n"
   ]
  },
  {
   "cell_type": "markdown",
   "metadata": {},
   "source": [
    "`d)` Find the estimate for $p_{treatment}$ - $p_{control}$ under the null using the simulated values from part `(b)` and `(c)`."
   ]
  },
  {
   "cell_type": "code",
   "execution_count": 31,
   "metadata": {},
   "outputs": [
    {
     "data": {
      "text/plain": [
       "0.050066728877864425"
      ]
     },
     "execution_count": 31,
     "metadata": {},
     "output_type": "execute_result"
    }
   ],
   "source": [
    " p_treatment_null.mean() - p_control_null.mean() \n"
   ]
  },
  {
   "cell_type": "markdown",
   "metadata": {},
   "source": [
    "`e)` Simulate 500 $p_{treatment}$ - $p_{control}$ values using this same process as `b)`- `d)` similarly to the one you calculated in parts **a. through g.** above.  Store all 500 values in an numpy array called **p_diffs**.  This array should look similar to the below **(the values will not match AND this will likely take a bit of time to run)**:\n",
    "\n",
    "`[0.001, -0.003, 0.002, ...]`"
   ]
  },
  {
   "cell_type": "code",
   "execution_count": 38,
   "metadata": {},
   "outputs": [
    {
     "name": "stdout",
     "output_type": "stream",
     "text": [
      "[0.051069439618599874, 0.047765001862852055, 0.049304261130286436, 0.046429755207681764, 0.050985575528899874, 0.05508219077990685, 0.047124892216889494, 0.04964950990447413, 0.05008113372809912, 0.04752598732357784, 0.045661666874103404, 0.05200929283103846, 0.04707772204468143, 0.04765404708914993, 0.05387192129003107, 0.04996712338010481, 0.04907534038708605, 0.04983909064051814, 0.046223123531738616, 0.05128793815905497, 0.04670459064322155, 0.05076232942367073, 0.05129800492914337, 0.05000556334004942, 0.051876458474706885, 0.05466840983945109, 0.05253228250274365, 0.04803110708612837, 0.05011302602884614, 0.050571794588444116, 0.05192671124719257, 0.047102657201603115, 0.050305279880540024, 0.049638106576560787, 0.05167416487891001, 0.0487707952038651, 0.05105418877312426, 0.05123244725921121, 0.04714022414032139, 0.05104758706195581, 0.052456685088708516, 0.050729100565098786, 0.054754456482216926, 0.04422637821056033, 0.04909850247556963, 0.0471074317923626, 0.044621362168664275, 0.04869999940657488, 0.04903297183162289, 0.05262664987314519, 0.051232856743838956, 0.049656003511700866, 0.04696982284527153, 0.04850908211270592, 0.05026904949964672, 0.049891525966069675, 0.05530546391112143, 0.04870965669203553, 0.05302512591615448, 0.0489132598196719, 0.04902817021487797, 0.052205011741652305, 0.04615058169199568, 0.05131985748578741, 0.05281058299720337, 0.05097507224819832, 0.050878085814117735, 0.04847762632257209, 0.053267659566319514, 0.04841340521046486, 0.05191407946539599, 0.05397239980901704, 0.0485458300821687, 0.05284471190298712, 0.0501108705017657, 0.0500050998034508, 0.05017812016217969, 0.05010124024229047, 0.049509637326360934, 0.04842478151239278, 0.051515985881028986, 0.04811802675012056, 0.046443314062675545, 0.053048342056608924, 0.05239903866178432, 0.052410824448339985, 0.045864424006498844, 0.05033501665420663, 0.048249551574612595, 0.048000087806607694, 0.04838893359014178, 0.04880797968394106, 0.04434041558454006, 0.047896963197957276, 0.04673470987553044, 0.0485339902436422, 0.05333493625271893, 0.050490113051810004, 0.051511211290269546, 0.04491409453934413, 0.04743033744732221, 0.051675037900136375, 0.050629958603937764, 0.05167460138952319, 0.05524293478949606, 0.048806152563532074, 0.04861441630040765, 0.046693731929863105, 0.05131107322155311, 0.04769818871305122, 0.04761077848647502, 0.04890011044930588, 0.051804816682175736, 0.05315708725125974, 0.04959221891020682, 0.05083571725865457, 0.050568766040137325, 0.04688546819298753, 0.05274857146414745, 0.05199835303972371, 0.05149980796235619, 0.04680378665635343, 0.04715896707070237, 0.057780647795475884, 0.0511306321824003, 0.05196823380741482, 0.050785900996782055, 0.04828057085413327, 0.0480026798443013, 0.050588409017730096, 0.048498632883975226, 0.05111666384277877, 0.050114745045313394, 0.05422974779404449, 0.047995668648505116, 0.05187951404899907, 0.05087590326105186, 0.04972767233021744, 0.0522465072758891, 0.047372636968427154, 0.05238024167943248, 0.05246282326327836, 0.05084447449690346, 0.050705528991987464, 0.05040144734536513, 0.04703404395737876, 0.048645872090541484, 0.052323468273734616, 0.050404039383058735, 0.054390518829619094, 0.045617525250202115, 0.051690806334181424, 0.05033237056454215, 0.05061419016989269, 0.04686800776846063, 0.049225198657331354, 0.044189711319053845, 0.044760307673580246, 0.05404537815937313, 0.043844489570851575, 0.053182431892809176, 0.0535800078886067, 0.04916626972455308, 0.05093925135193274, 0.052166135271094524, 0.04614490705402444, 0.05193675099129555, 0.05102797111034847, 0.05106466502784039, 0.049752170976525956, 0.050857133304685456, 0.05289319160703469, 0.04789655371332953, 0.0484793993910102, 0.049257090958078356, 0.0500396381938623, 0.0465329068423176, 0.05014622786143268, 0.04790438387838121, 0.048249551574612595, 0.04820674650853629, 0.04725510750954204, 0.05013051347935847, 0.05116427052559999, 0.05356650308558379, 0.05048749398813096, 0.048605632036173324, 0.05169514441432772, 0.04868605809293877, 0.04958916333591462, 0.049012455832803795, 0.04599371222595419, 0.052326906306669155, 0.053804590551660786, 0.044102737603090816, 0.05239470058163802, 0.05247550909704579, 0.04945327340529081, 0.04915925852875687, 0.044140741052422244, 0.05171391437069413, 0.051028407620961655, 0.05228762035148363, 0.049020285997855476, 0.050294803625823906, 0.048092272623943375, 0.050630804599178694, 0.054047533686453555, 0.04346221847250052, 0.04694360518249577, 0.05280187981092534, 0.05093008462905611, 0.048348311077131306, 0.047765901910063815, 0.05091393373636875, 0.04834176341793374, 0.0485339902436422, 0.05610413501360732, 0.05528884948183546, 0.050851049182086466, 0.05587559672904925, 0.053529782142106436, 0.04900983676912475, 0.05095060062787521, 0.049590036357140946, 0.05110662409867581, 0.05333362672087942, 0.040968674116407394, 0.04953585498913669, 0.04885558636676228, 0.05300242736426952, 0.0520935934313516, 0.048542720455905644, 0.04825787230224832, 0.05152515260390564, 0.048034162660420585, 0.050812118659557856, 0.0507753977160805, 0.05393655188676602, 0.05084575700275755, 0.05696705425418584, 0.04765448359976311, 0.04818363847202359, 0.04579231867736912, 0.04926369266924682, 0.04887697538680773, 0.04818096535637367, 0.05084706653459706, 0.049087589710240326, 0.0524025307466897, 0.04815038258746618, 0.050207420425233115, 0.05289976629221772, 0.04904784021845618, 0.05414626616298682, 0.050523751395009725, 0.050993896256535595, 0.04169218431547131, 0.050580142342065246, 0.05329475025032164, 0.05581969634457774, 0.05099867084729505, 0.04556860903554136, 0.05270091072935536, 0.05168379513838524, 0.05110962562099716, 0.05050058930652615, 0.05034418337708324, 0.0513259416083864, 0.051891326861540174, 0.04443565597616794, 0.04748187272566198, 0.05528887650782088, 0.05067099060157598, 0.048004016402126246, 0.04966563377117608, 0.05224784383371407, 0.04790787596328658, 0.05240735938942004, 0.0459273085607811, 0.04792536341379891, 0.05099779782606871, 0.053760885438372694, 0.05127132372976899, 0.05230857286091589, 0.04854888565646093, 0.05130059696683695, 0.05091917186372681, 0.05174760676586472, 0.05292636641363581, 0.05161256283048184, 0.049356313997195686, 0.049876275120594074, 0.050839645854173124, 0.04778248931336436, 0.04885907845166766, 0.04992120868776542, 0.044118861469792756, 0.05344237191553021, 0.052150011404392585, 0.05032230379445375, 0.05514551184480229, 0.05442590321527151, 0.04933050581904763, 0.05144611715693599, 0.04925269882596123, 0.0537146153133764, 0.048907558155715236, 0.05147361732556584, 0.05310860754721215, 0.045012827015877374, 0.04665261885426859, 0.05352806312563918, 0.0516750649261218, 0.05202416121787175, 0.045356248669656124, 0.051917544524315934, 0.054252009835316264, 0.047244658280811314, 0.05044556194328097, 0.04764485334028788, 0.04861747187469985, 0.04306854404623611, 0.04851475675067718, 0.05380767315193842, 0.05271496014693318, 0.049352385401677135, 0.05287221207161698, 0.051253453820614345, 0.052124639736857714, 0.055217617173932046, 0.04940083807973927, 0.05185201388036924, 0.04778164331812346, 0.04720662780549445, 0.04917712843791153, 0.04997410754991556, 0.05110793363051534, 0.0487424220140089, 0.04920555567973858, 0.04937374739573715, 0.04998722989429619, 0.0555282735057374, 0.05183280741338965, 0.04810149339879084, 0.05114989270135076, 0.050482228834787465, 0.04688945084047695, 0.052011911894717475, 0.05245496607224126, 0.049981064693740904, 0.05487858765227048, 0.05331701229159344, 0.055800053366984986, 0.04743074693194993, 0.05439488393575083, 0.05140020246459659, 0.0471917864446466, 0.049217805002892856, 0.0498509034530592, 0.0507286640544856, 0.04690513819656572, 0.049895018050975085, 0.04837540176113343, 0.05207700602805106, 0.048939450456462266, 0.046919133562172685, 0.048112842674733355, 0.048898827943451795, 0.04842521802300595, 0.0516147453835477, 0.054674984524634096, 0.05292944901391343, 0.048007099002403894, 0.04880795265795562, 0.051033672774305136, 0.05107996992528685, 0.0506604873208744, 0.05171784296621268, 0.04818009233514735, 0.047094336473967394, 0.05114547354324815, 0.04764572636151425, 0.04876209201758709, 0.05226096617809467, 0.048237302251458364, 0.05086850960661338, 0.049993777553493754, 0.049649019341890116, 0.04893904097183452, 0.04839766380240522, 0.0489031930495835, 0.049440178086895645, 0.05067011758034963, 0.052282382224125554, 0.05032364035227872, 0.05170690317489794, 0.05116429755158543, 0.05069679877972401, 0.045856103278863136, 0.04758281478124653, 0.05202849929801805, 0.05144655366754913, 0.05021833319056242, 0.050876339771665044, 0.04735386701206072, 0.045649881087547736, 0.052240013668662405, 0.04505519557134054, 0.05063257766761681, 0.05125339976864347, 0.05122630908464135, 0.05131066373692536, 0.046498804962519305, 0.04916275061366225, 0.050899065349535436, 0.05037217410829714, 0.05029744971548836, 0.04828976460299535, 0.04785546766372045, 0.04906532766896851, 0.04893028373358563, 0.04772306981800205, 0.045545883457670966, 0.05241649908631121, 0.05029174805153168, 0.04932873275060952, 0.05031534665062844, 0.0469186970515595, 0.0476051308744892, 0.05352719010441283, 0.05245714862530712, 0.04698553722734575, 0.04971062139031826, 0.0541567694436884, 0.053679230927724, 0.04948126413650472, 0.05048397487724014, 0.046329740225294416, 0.046924371689530744, 0.050683649409357975, 0.05000728235651668, 0.052204165746411374, 0.054477465519596716, 0.0497730964599728, 0.051455720390425785, 0.04477168397550818, 0.05211413645615613, 0.047266483811469945, 0.050593647145088155, 0.05073960384580034, 0.04784103578750033, 0.0521993641296665, 0.05095676582843049, 0.04831816481883698, 0.049840863708956254, 0.052905850414816685, 0.05032014826737331, 0.0483238124308228, 0.045937375330869515, 0.050732592650004155, 0.0480922185719725, 0.047838443749806725, 0.05328421994363465, 0.05317064610625352, 0.04595398976015551, 0.049101148565234065, 0.0477160856481913, 0.052022878712017676, 0.04947515298792031, 0.050345002346338735, 0.048879594450486785, 0.048420825890888794, 0.04731018892475805, 0.049358906034889266, 0.0459557358026082, 0.049888470391777476, 0.04907184830218067, 0.05548677797150059, 0.05216087011775103, 0.04659186280108134, 0.04984345574664985, 0.049875757532024625, 0.05057795978899937, 0.05360581606675473, 0.05325145462166128, 0.053235740239587076, 0.05169034279758283, 0.04969054190211235, 0.04823296417131205, 0.0485034345007201, 0.051946817761383934, 0.05378846668495883, 0.0472319724470439, 0.048122418882237714, 0.043123571409481254, 0.04916757925639259, 0.049111624819950225, 0.051340809995219686, 0.045388140970403126]\n"
     ]
    }
   ],
   "source": [
    "p_diffs = []\n",
    "\n",
    "for _ in range(500):\n",
    "    treatment_samples = df[df['group'] == 'treatment']['converted']\n",
    "    control_samples = df[df['group'] == 'control']['converted']\n",
    "\n",
    "    treatment_converted = np.random.choice(treatment_samples, len(treatment_samples))\n",
    "    control_converted = np.random.choice(control_samples, len(control_samples))\n",
    "\n",
    "    # Calculate the difference between p_treatment and p_control for this iteration\n",
    "    p_diff = treatment_converted.mean() - control_converted.mean()\n",
    "    \n",
    "    # Append the difference to the p_diffs list\n",
    "    p_diffs.append(p_diff)\n",
    "\n",
    "# Convert the p_diffs list to a NumPy array\n",
    "p_diffs = np.array(p_diffs)\n",
    "\n",
    "# Convert the NumPy array back to a Python list\n",
    "p_diffs_list = p_diffs.tolist()\n",
    "\n",
    "print(p_diffs_list)\n",
    "\n",
    "\n"
   ]
  },
  {
   "cell_type": "markdown",
   "metadata": {},
   "source": [
    "`f)` Plot a histogram of the **p_diffs**.  Does this plot look like what you expected?  Use the matching problem in the classroom to assure you fully understand what was computed here."
   ]
  },
  {
   "cell_type": "code",
   "execution_count": 39,
   "metadata": {},
   "outputs": [
    {
     "data": {
      "image/png": "[encoded data removed]",
      "text/plain": [
       "<Figure size 640x480 with 1 Axes>"
      ]
     },
     "metadata": {},
     "output_type": "display_data"
    }
   ],
   "source": [
    "p_diffs = pd.Series(p_diffs)\n",
    "p_diffs.hist(bins=20)\n",
    "plt.xlabel('Difference in Conversion Rates (p_treatment - p_control)')\n",
    "plt.ylabel('Frequency')\n",
    "plt.title('Sampling Distribution of Differences in Conversion Rates')\n",
    "plt.grid(True)\n",
    "plt.show()"
   ]
  },
  {
   "cell_type": "markdown",
   "metadata": {},
   "source": [
    "`g)` What proportion of the **p_diffs** are greater than the difference observed between `treatment` and `control` in `df`?"
   ]
  },
  {
   "cell_type": "code",
   "execution_count": 45,
   "metadata": {},
   "outputs": [
    {
     "name": "stdout",
     "output_type": "stream",
     "text": [
      "0.514\n"
     ]
    }
   ],
   "source": [
    "#proportion_greater\n",
    "observed_difference = p_treatment_null - p_control_null\n",
    "proportion_greater = (p_diffs > observed_difference).mean()\n",
    "\n",
    "print(proportion_greater)"
   ]
  },
  {
   "cell_type": "markdown",
   "metadata": {},
   "source": [
    "`h)` In words, explain what you just computed in part `g)`  What is this value called in scientific studies?  What does this value mean in terms of whether or not there is a difference between the new and old pages using our Type I error rate of 0.05?"
   ]
  },
  {
   "cell_type": "markdown",
   "metadata": {},
   "source": [
    "In part (g), I computed the proportion_greater, which represents the proportion of simulated differences in conversion rates \n",
    "In scientific studies, this value is often referred to as the p-value. The p-value measures the probability of obtaining results as extreme as, or more extreme than, the observed results under the assumption that the null hypothesis is true. In this case, the null hypothesis typically states that there is no significant difference between the new and old pages in terms of conversion rates.\n",
    "\n",
    "\n",
    "\n",
    "\n",
    "This value, the p-value, holds significant meaning in terms of determining whether or not there is a difference between the new and old pages while considering our Type I error rate of 0.05.\n",
    "\n",
    "If the p-value is less than or equal to our Type I error rate (0.05 in this case), it suggests that the observed difference in conversion rates between the new and old pages is statistically significant. In other words, it provides evidence against the null hypothesis, which typically asserts that there is no significant difference between the pages. In this scenario, we would conclude that there is indeed a significant difference between the new and old pages in terms of conversion rates.\n",
    "\n",
    "On the other hand, if the p-value is greater than 0.05, it indicates that the observed difference is not statistically significant. In such a case, we fail to reject the null hypothesis, suggesting that there is insufficient evidence to conclude that the new pages lead to a different conversion rate compared to the old pages.\n",
    "\n",
    "So, the p-value acts as a crucial threshold for decision-making. If it's smaller than our chosen Type I error rate (0.05), we infer a significant difference. If it's larger, we do not find sufficient evidence to support such a conclusion.\n"
   ]
  },
  {
   "cell_type": "markdown",
   "metadata": {},
   "source": [
    "<a id='algorithms'></a>\n",
    "### Part IV - Algorithms\n",
    "\n",
    "`1.` In this final part, you will see that the result you acheived in the previous A/B test can also be acheived by performing regression.  All the code needed for the modeling and results of the modeling for sections `b) - f)` have been completed for you. \n",
    "\n",
    "**You will need to complete sections `a)` and `g)`.**  \n",
    "\n",
    "**Then use the code from `1.` to assist with the question `2.`   You should be able to modify the code to assist in answering each of question 2's parts.**<br><br>\n",
    "\n",
    "`a)` Since each row is either a conversion or no conversion, what type of regression should you be performing in this case?"
   ]
  },
  {
   "cell_type": "markdown",
   "metadata": {},
   "source": [
    "Logistic regression is specifically designed for binary classification problems like this one, where the dependent variable (the outcome we are trying to predict) is categorical with two possible outcomes.\n",
    "\n",
    "In your case, you are likely interested in predicting whether a user converts (1) or does not convert (0) based on various independent variables or factors. Logistic regression models the probability of a binary outcome and is well-suited for analyzing and modeling such scenarios. It can provide insights into the factors that influence the likelihood of conversion, allowing you to understand the relationship between your independent variables and the probability of conversion."
   ]
  },
  {
   "cell_type": "markdown",
   "metadata": {},
   "source": [
    "The goal is to use **statsmodels** to fit the regression model you specified in part `a)` to see if there is a significant difference in conversion based on which page a customer receives.  \n",
    "\n",
    "`b)` However, you first need to create a column for the intercept, and create a dummy variable column for which page each user received.  Add an **intercept** column, as well as an **ab_page** column, which is 1 when an individual receives the **treatment** and 0 if **control**.\n",
    "\n",
    "It may be helpful to look at the [get_dummies documentation](https://pandas.pydata.org/docs/reference/api/pandas.get_dummies.html) to encode the `ab_page` column.\n",
    "\n",
    "Below you can see an example of the new columns that will need to be added (The order of columns is not important.): **This question is completed for you**\n",
    "\n",
    "##### Example DataFrame\n",
    "| intercept   | group       | ab_page     | converted   |\n",
    "| ----------- | ----------- | ----------- | ----------- |\n",
    "| 1           |  control    |  0          |  0          |\n",
    "| 1           |  treatment  |  1          |  0          |\n",
    "| 1           |  treatment  |  1          |  0          |\n",
    "| 1           |  control    |  0          |  0          |\n",
    "| 1           |  treatment  |  1          |  1          |\n",
    "| 1           |  treatment  |  1          |  1          |\n",
    "| 1           |  treatment  |  1          |  0          |\n",
    "| 1           |  control    |  0          |  1          |"
   ]
  },
  {
   "cell_type": "code",
   "execution_count": 7,
   "metadata": {},
   "outputs": [
    {
     "name": "stdout",
     "output_type": "stream",
     "text": [
      "<class 'pandas.core.frame.DataFrame'>\n",
      "RangeIndex: 69889 entries, 0 to 69888\n",
      "Data columns (total 5 columns):\n",
      " #   Column     Non-Null Count  Dtype \n",
      "---  ------     --------------  ----- \n",
      " 0   country    69889 non-null  object\n",
      " 1   group      69889 non-null  object\n",
      " 2   converted  69889 non-null  int64 \n",
      " 3   intercept  69889 non-null  int64 \n",
      " 4   ab_page    69889 non-null  uint8 \n",
      "dtypes: int64(2), object(2), uint8(1)\n",
      "memory usage: 2.2+ MB\n"
     ]
    }
   ],
   "source": [
    "df['intercept'] = 1\n",
    "df['ab_page'] = pd.get_dummies(df['group'])['treatment']\n",
    "df.info()"
   ]
  },
  {
   "cell_type": "markdown",
   "metadata": {},
   "source": [
    "`c)`  Create your `X` matrix and `y` response column that will be passed to your model, where you are testing if there is a difference in `treatment` vs. `control`. **This question is completed for you**"
   ]
  },
  {
   "cell_type": "code",
   "execution_count": 8,
   "metadata": {},
   "outputs": [],
   "source": [
    "X = df[['intercept', 'ab_page']]\n",
    "y = df['converted']"
   ]
  },
  {
   "cell_type": "markdown",
   "metadata": {},
   "source": [
    "`d)` Use **statsmodels** to import and fit your regression model on the `X` and `y` from part `c)`. \n",
    "\n",
    "You can find the [statsmodels documentation to assist with this exercise here](https://www.statsmodels.org/stable/discretemod.html).  **This question is completed for you**"
   ]
  },
  {
   "cell_type": "code",
   "execution_count": 9,
   "metadata": {},
   "outputs": [
    {
     "name": "stdout",
     "output_type": "stream",
     "text": [
      "Optimization terminated successfully.\n",
      "         Current function value: 0.384516\n",
      "         Iterations 6\n"
     ]
    }
   ],
   "source": [
    "import statsmodels.api as sm\n",
    "\n",
    "# Logit Model\n",
    "logit_mod = sm.Logit(y, X)\n",
    "logit_res = logit_mod.fit()"
   ]
  },
  {
   "cell_type": "markdown",
   "metadata": {},
   "source": [
    "`e)` Provide the summary of your model below. **This question is completed for you**"
   ]
  },
  {
   "cell_type": "code",
   "execution_count": 10,
   "metadata": {},
   "outputs": [
    {
     "name": "stdout",
     "output_type": "stream",
     "text": [
      "                           Logit Regression Results                           \n",
      "==============================================================================\n",
      "Dep. Variable:              converted   No. Observations:                69889\n",
      "Model:                          Logit   Df Residuals:                    69887\n",
      "Method:                           MLE   Df Model:                            1\n",
      "Date:                Tue, 03 Oct 2023   Pseudo R-squ.:                0.007175\n",
      "Time:                        16:40:27   Log-Likelihood:                -26873.\n",
      "converged:                       True   LL-Null:                       -27068.\n",
      "Covariance Type:            nonrobust   LLR p-value:                 1.810e-86\n",
      "==============================================================================\n",
      "                 coef    std err          z      P>|z|      [0.025      0.975]\n",
      "------------------------------------------------------------------------------\n",
      "intercept     -2.1402      0.017   -122.305      0.000      -2.174      -2.106\n",
      "ab_page        0.4467      0.023     19.539      0.000       0.402       0.492\n",
      "==============================================================================\n"
     ]
    }
   ],
   "source": [
    "print(logit_res.summary())"
   ]
  },
  {
   "cell_type": "markdown",
   "metadata": {},
   "source": [
    "`f)` What is the p-value associated with **ab_page**? Does it lead you to the same conclusion you drew in the **Experiment** section."
   ]
  },
  {
   "cell_type": "markdown",
   "metadata": {},
   "source": [
    "**Your Answer Here.**"
   ]
  },
  {
   "cell_type": "markdown",
   "metadata": {},
   "source": [
    "`2. a)` Now you will want to create two new columns as dummy variables for `US` and `UK`.  Again, use `get_dummies` to add these columns.  The dataframe you create should include at least the following columns (If both columns for `US` and `UK` are `0` this represents `CA`.  The order of rows and columns is not important for you to match - it is just to illustrate how columns should connect to one another.):\n",
    "\n",
    "##### Example DataFrame\n",
    "| intercept   | group       | ab_page     | converted   | country     |  US         | UK          |\n",
    "| ----------- | ----------- | ----------- | ----------- | ----------- | ----------- | ----------- |\n",
    "| 1           |  control    |  0          |  0          |  US         |  1          |  0          |\n",
    "| 1           |  treatment  |  1          |  0          |  UK         |  0          |  1          |\n",
    "| 1           |  treatment  |  1          |  0          |  US         |  1          |  0          |\n",
    "| 1           |  control    |  0          |  0          |  US         |  1          |  0          |\n",
    "| 1           |  treatment  |  1          |  1          |  CA         |  0          |  0          |\n",
    "| 1           |  treatment  |  1          |  1          |  UK         |  0          |  1          |\n",
    "| 1           |  treatment  |  1          |  0          |  US         |  1          |  0          |\n",
    "| 1           |  control    |  0          |  1          |  US         |  1          |  0          |"
   ]
  },
  {
   "cell_type": "code",
   "execution_count": 17,
   "metadata": {
    "scrolled": true
   },
   "outputs": [],
   "source": [
    "# Create dummy variables for 'US' and 'UK' and add them to the DataFrame\n",
    "df[['US', 'UK']] = pd.get_dummies(df['country'])[['US', 'UK']]\n",
    "\n",
    "# Drop the original 'country' column if needed\n",
    "# df = df.drop(columns=['country'])\n",
    "\n",
    "# Ensure that 'intercept' column is included\n",
    "df['intercept'] = 1\n"
   ]
  },
  {
   "cell_type": "markdown",
   "metadata": {},
   "source": [
    "`b)`  Create your `X` matrix and `y` response column that will be passed to your model, where you are testing if there is \n",
    "* a difference in `converted` between `treatment` vs. `control`\n",
    "* a difference in `converted` between `US`, `UK`, and `CA`"
   ]
  },
  {
   "cell_type": "code",
   "execution_count": null,
   "metadata": {},
   "outputs": [],
   "source": [
    "# X = \n",
    "# y = \n",
    "\n",
    "X = df[['group_treatment', 'country_UK', 'country_US', 'country_CA']]\n",
    "y = df['converted']"
   ]
  },
  {
   "cell_type": "markdown",
   "metadata": {},
   "source": [
    "`c)` Use **statsmodels** to import and fit your regression model on the `X` and `y` from part `b)`. \n",
    "You can find the [statsmodels documentation to assist with this exercise here](https://www.statsmodels.org/stable/discretemod.html)."
   ]
  },
  {
   "cell_type": "code",
   "execution_count": 18,
   "metadata": {},
   "outputs": [
    {
     "name": "stdout",
     "output_type": "stream",
     "text": [
      "Optimization terminated successfully.\n",
      "         Current function value: 0.384516\n",
      "         Iterations 6\n"
     ]
    }
   ],
   "source": [
    "# Logit Model\n",
    "logit_mod = sm.Logit(y, X)\n",
    "logit_res = logit_mod.fit()"
   ]
  },
  {
   "cell_type": "markdown",
   "metadata": {},
   "source": [
    "`d)` Provide the summary of your model below."
   ]
  },
  {
   "cell_type": "code",
   "execution_count": 20,
   "metadata": {},
   "outputs": [
    {
     "name": "stdout",
     "output_type": "stream",
     "text": [
      "                           Logit Regression Results                           \n",
      "==============================================================================\n",
      "Dep. Variable:              converted   No. Observations:                69889\n",
      "Model:                          Logit   Df Residuals:                    69887\n",
      "Method:                           MLE   Df Model:                            1\n",
      "Date:                Tue, 03 Oct 2023   Pseudo R-squ.:                0.007175\n",
      "Time:                        16:48:25   Log-Likelihood:                -26873.\n",
      "converged:                       True   LL-Null:                       -27068.\n",
      "Covariance Type:            nonrobust   LLR p-value:                 1.810e-86\n",
      "==============================================================================\n",
      "                 coef    std err          z      P>|z|      [0.025      0.975]\n",
      "------------------------------------------------------------------------------\n",
      "intercept     -2.1402      0.017   -122.305      0.000      -2.174      -2.106\n",
      "ab_page        0.4467      0.023     19.539      0.000       0.402       0.492\n",
      "==============================================================================\n"
     ]
    }
   ],
   "source": [
    "print(logit_res.summary())"
   ]
  },
  {
   "cell_type": "markdown",
   "metadata": {},
   "source": [
    "`e)` What do the `p-values` associated with `US` and `UK` suggest in relation to how they impact `converted`? "
   ]
  },
  {
   "cell_type": "markdown",
   "metadata": {},
   "source": [
    "To assess how US and UK impact the conversion rate, it's important to include these variables in the logistic regression model as dummy variables. Once you include them, the p-values associated with US and UK will show whether there is a statistically significant difference in conversion rates between these countries and the reference category (which could be CA, for example).\n",
    "\n",
    "If the p-values associated with US and UK are less than our significance level, typically set at 0.05, it would suggest that there is a statistically significant difference in conversion rates between these countries and the reference category (CA). On the other hand, if the p-values are greater than 0.05, it would indicate that there is no statistically significant difference in conversion rates between these countries and CA."
   ]
  },
  {
   "cell_type": "markdown",
   "metadata": {},
   "source": [
    "<a id='finalcheck'></a>\n",
    "## Final Check!\n",
    "\n",
    "Congratulations!  You have reached the end of the A/B Test Results project!  You should be very proud of all you have accomplished!\n",
    "\n",
    "> **Tip**: Once you are satisfied with your work here, check over your notebook to make sure that it satisfies all the specifications mentioned in the rubric. You should also probably remove all of the \"Hints\" and \"Tips\" like this one so that the presentation is as polished as possible.\n",
    "\n",
    "\n",
    "<a id='submission'></a>\n",
    "## Submission\n",
    "\n",
    "Please follow the directions in the classroom to submit this notebook, as well as your completed slides."
   ]
  }
 ],
 "metadata": {
  "kernelspec": {
   "display_name": "Python 3 (ipykernel)",
   "language": "python",
   "name": "python3"
  },
  "language_info": {
   "codemirror_mode": {
    "name": "ipython",
    "version": 3
   },
   "file_extension": ".py",
   "mimetype": "text/x-python",
   "name": "python",
   "nbconvert_exporter": "python",
   "pygments_lexer": "ipython3",
   "version": "3.10.10"
  },
  "vscode": {
   "interpreter": {
    "hash": "b34053042c33de92a8f6946323cebca57e40086129f2774c267076f4fb825384"
   }
  }
 },
 "nbformat": 4,
 "nbformat_minor": 2
}
